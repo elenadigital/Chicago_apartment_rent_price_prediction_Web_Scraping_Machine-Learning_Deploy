{
 "cells": [
  {
   "cell_type": "markdown",
   "id": "d3d55161",
   "metadata": {},
   "source": [
    "# Web-scraping: информация по аренде квартир в Чикаго (ApartmentGuide)"
   ]
  },
  {
   "cell_type": "markdown",
   "id": "57ed53e0",
   "metadata": {},
   "source": [
    "## Импорт библиотек"
   ]
  },
  {
   "cell_type": "code",
   "execution_count": 1,
   "id": "31a67188",
   "metadata": {},
   "outputs": [
    {
     "name": "stdout",
     "output_type": "stream",
     "text": [
      "Requirement already satisfied: requests in /Users/lena/opt/anaconda3/anaconda3/envs/classic_nb/lib/python3.10/site-packages (2.32.5)\n",
      "Requirement already satisfied: beautifulsoup4 in /Users/lena/opt/anaconda3/anaconda3/envs/classic_nb/lib/python3.10/site-packages (4.13.5)\n",
      "Requirement already satisfied: pandas in /Users/lena/opt/anaconda3/anaconda3/envs/classic_nb/lib/python3.10/site-packages (2.3.2)\n",
      "Requirement already satisfied: lxml in /Users/lena/opt/anaconda3/anaconda3/envs/classic_nb/lib/python3.10/site-packages (4.9.1)\n",
      "Requirement already satisfied: undetected-chromedriver in /Users/lena/opt/anaconda3/anaconda3/envs/classic_nb/lib/python3.10/site-packages (3.5.5)\n",
      "Requirement already satisfied: charset_normalizer<4,>=2 in /Users/lena/opt/anaconda3/anaconda3/envs/classic_nb/lib/python3.10/site-packages (from requests) (3.4.3)\n",
      "Requirement already satisfied: idna<4,>=2.5 in /Users/lena/opt/anaconda3/anaconda3/envs/classic_nb/lib/python3.10/site-packages (from requests) (3.10)\n",
      "Requirement already satisfied: urllib3<3,>=1.21.1 in /Users/lena/opt/anaconda3/anaconda3/envs/classic_nb/lib/python3.10/site-packages (from requests) (2.5.0)\n",
      "Requirement already satisfied: certifi>=2017.4.17 in /Users/lena/opt/anaconda3/anaconda3/envs/classic_nb/lib/python3.10/site-packages (from requests) (2025.8.3)\n",
      "Requirement already satisfied: soupsieve>1.2 in /Users/lena/opt/anaconda3/anaconda3/envs/classic_nb/lib/python3.10/site-packages (from beautifulsoup4) (2.7)\n",
      "Requirement already satisfied: typing-extensions>=4.0.0 in /Users/lena/opt/anaconda3/anaconda3/envs/classic_nb/lib/python3.10/site-packages (from beautifulsoup4) (4.14.1)\n",
      "Requirement already satisfied: numpy>=1.22.4 in /Users/lena/opt/anaconda3/anaconda3/envs/classic_nb/lib/python3.10/site-packages (from pandas) (2.2.6)\n",
      "Requirement already satisfied: python-dateutil>=2.8.2 in /Users/lena/opt/anaconda3/anaconda3/envs/classic_nb/lib/python3.10/site-packages (from pandas) (2.9.0.post0)\n",
      "Requirement already satisfied: pytz>=2020.1 in /Users/lena/opt/anaconda3/anaconda3/envs/classic_nb/lib/python3.10/site-packages (from pandas) (2025.2)\n",
      "Requirement already satisfied: tzdata>=2022.7 in /Users/lena/opt/anaconda3/anaconda3/envs/classic_nb/lib/python3.10/site-packages (from pandas) (2025.2)\n",
      "Requirement already satisfied: selenium>=4.9.0 in /Users/lena/opt/anaconda3/anaconda3/envs/classic_nb/lib/python3.10/site-packages (from undetected-chromedriver) (4.35.0)\n",
      "Requirement already satisfied: websockets in /Users/lena/opt/anaconda3/anaconda3/envs/classic_nb/lib/python3.10/site-packages (from undetected-chromedriver) (15.0.1)\n",
      "Requirement already satisfied: six>=1.5 in /Users/lena/opt/anaconda3/anaconda3/envs/classic_nb/lib/python3.10/site-packages (from python-dateutil>=2.8.2->pandas) (1.17.0)\n",
      "Requirement already satisfied: trio~=0.30.0 in /Users/lena/opt/anaconda3/anaconda3/envs/classic_nb/lib/python3.10/site-packages (from selenium>=4.9.0->undetected-chromedriver) (0.30.0)\n",
      "Requirement already satisfied: trio-websocket~=0.12.2 in /Users/lena/opt/anaconda3/anaconda3/envs/classic_nb/lib/python3.10/site-packages (from selenium>=4.9.0->undetected-chromedriver) (0.12.2)\n",
      "Requirement already satisfied: websocket-client~=1.8.0 in /Users/lena/opt/anaconda3/anaconda3/envs/classic_nb/lib/python3.10/site-packages (from selenium>=4.9.0->undetected-chromedriver) (1.8.0)\n",
      "Requirement already satisfied: attrs>=23.2.0 in /Users/lena/opt/anaconda3/anaconda3/envs/classic_nb/lib/python3.10/site-packages (from trio~=0.30.0->selenium>=4.9.0->undetected-chromedriver) (25.3.0)\n",
      "Requirement already satisfied: sortedcontainers in /Users/lena/opt/anaconda3/anaconda3/envs/classic_nb/lib/python3.10/site-packages (from trio~=0.30.0->selenium>=4.9.0->undetected-chromedriver) (2.4.0)\n",
      "Requirement already satisfied: outcome in /Users/lena/opt/anaconda3/anaconda3/envs/classic_nb/lib/python3.10/site-packages (from trio~=0.30.0->selenium>=4.9.0->undetected-chromedriver) (1.3.0.post0)\n",
      "Requirement already satisfied: sniffio>=1.3.0 in /Users/lena/opt/anaconda3/anaconda3/envs/classic_nb/lib/python3.10/site-packages (from trio~=0.30.0->selenium>=4.9.0->undetected-chromedriver) (1.3.1)\n",
      "Requirement already satisfied: exceptiongroup in /Users/lena/opt/anaconda3/anaconda3/envs/classic_nb/lib/python3.10/site-packages (from trio~=0.30.0->selenium>=4.9.0->undetected-chromedriver) (1.3.0)\n",
      "Requirement already satisfied: wsproto>=0.14 in /Users/lena/opt/anaconda3/anaconda3/envs/classic_nb/lib/python3.10/site-packages (from trio-websocket~=0.12.2->selenium>=4.9.0->undetected-chromedriver) (1.2.0)\n",
      "Requirement already satisfied: pysocks!=1.5.7,<2.0,>=1.5.6 in /Users/lena/opt/anaconda3/anaconda3/envs/classic_nb/lib/python3.10/site-packages (from urllib3[socks]<3.0,>=2.5.0->selenium>=4.9.0->undetected-chromedriver) (1.7.1)\n",
      "Requirement already satisfied: h11<1,>=0.9.0 in /Users/lena/opt/anaconda3/anaconda3/envs/classic_nb/lib/python3.10/site-packages (from wsproto>=0.14->trio-websocket~=0.12.2->selenium>=4.9.0->undetected-chromedriver) (0.16.0)\n"
     ]
    }
   ],
   "source": [
    "!pip install requests beautifulsoup4 pandas lxml undetected-chromedriver"
   ]
  },
  {
   "cell_type": "code",
   "execution_count": 2,
   "id": "5951f1b4",
   "metadata": {},
   "outputs": [],
   "source": [
    "import requests\n",
    "from bs4 import BeautifulSoup\n",
    "import pandas as pd\n",
    "from time import sleep\n",
    "import csv\n",
    "import json\n",
    "import undetected_chromedriver as uc\n",
    "from selenium.webdriver.common.by import By\n",
    "from selenium.webdriver.support.ui import WebDriverWait\n",
    "from selenium.webdriver.support import expected_conditions as EC\n",
    "import time, random"
   ]
  },
  {
   "cell_type": "markdown",
   "id": "2efc556a",
   "metadata": {},
   "source": [
    "## Предварительный этап. Тестирование запроса и извлечение данных со страницы  "
   ]
  },
  {
   "cell_type": "markdown",
   "id": "cc73ee5c",
   "metadata": {},
   "source": [
    "Посмотрим страницу с отфильтрованными апартаментами в Чикаго"
   ]
  },
  {
   "cell_type": "code",
   "execution_count": 3,
   "id": "2a2d6d04",
   "metadata": {},
   "outputs": [
    {
     "name": "stdout",
     "output_type": "stream",
     "text": [
      "200\n",
      "<!DOCTYPE html><html lang=\"en\"><head><meta charSet=\"utf-8\" data-next-head=\"\"/><meta name=\"viewport\" content=\"width=device-width\" data-next-head=\"\"/><title data-next-head=\"\">Apartments for Rent in Chicago, IL - 12018 Rentals | ApartmentGuide.com</title><link rel=\"icon\" href=\"/favicon.ico\" data-next-head=\"\"/><meta name=\"format-detection\" content=\"telephone=no\" data-next-head=\"\"/><meta name=\"description\" content=\"Choose from  12018 apartments for rent in Chicago, Illinois by comparing verified rati\n"
     ]
    }
   ],
   "source": [
    "# Задаём URL страницы для парсинга\n",
    "url = \"https://www.apartmentguide.com/apartments/Illinois/Chicago/\"\n",
    "\n",
    "# Указываем заголовки запроса, чтобы сайт думал, что это запрос от браузера\n",
    "headers = {\n",
    "    \"User-Agent\": \"Mozilla/5.0 (Windows NT 10.0; Win64; x64) AppleWebKit/537.36 (KHTML, like Gecko) Chrome/139.0.7258.128 Safari/537.36\",\n",
    "    \"Accept\": \"text/html,application/xhtml+xml,application/xml;q=0.9,image/webp,*/*;q=0.8\"\n",
    "}\n",
    "\n",
    "# Отправляем GET-запрос к сайту\n",
    "r = requests.get(url, headers=headers)\n",
    "\n",
    "# Проверяем статус ответа (200 = успешно)\n",
    "print(r.status_code)\n",
    "\n",
    "# Выводим первые 500 символов страницы\n",
    "print(r.text[:500])  "
   ]
  },
  {
   "cell_type": "code",
   "execution_count": 4,
   "id": "c24df090",
   "metadata": {},
   "outputs": [],
   "source": [
    "# Создаём объект BeautifulSoup для удобного парсинга HTML\n",
    "soup = BeautifulSoup(r.text, 'lxml')"
   ]
  },
  {
   "cell_type": "code",
   "execution_count": 5,
   "id": "db549a4e",
   "metadata": {},
   "outputs": [
    {
     "data": {
      "text/plain": [
       "'/a/1433-45-W-Lunt-Ave-Chicago-IL-6021040/'"
      ]
     },
     "execution_count": 5,
     "metadata": {},
     "output_type": "execute_result"
    }
   ],
   "source": [
    "# Находим блок с адресом карточки\n",
    "adress = soup.find('li', class_='_90363ab6').find('a')['href']\n",
    "adress"
   ]
  },
  {
   "cell_type": "code",
   "execution_count": 6,
   "id": "0ea9c742",
   "metadata": {},
   "outputs": [
    {
     "data": {
      "text/plain": [
       "'https://www.apartmentguide.com/a/1433-45-W-Lunt-Ave-Chicago-IL-6021040/'"
      ]
     },
     "execution_count": 6,
     "metadata": {},
     "output_type": "execute_result"
    }
   ],
   "source": [
    "# Ссылка на карточку\n",
    "link = 'https://www.apartmentguide.com' + soup.find('li', class_='_90363ab6').find('a')['href']\n",
    "link"
   ]
  },
  {
   "cell_type": "markdown",
   "id": "18d97441",
   "metadata": {},
   "source": [
    "Посмотрим элементы в карточке с описанием апартаментов"
   ]
  },
  {
   "cell_type": "code",
   "execution_count": 7,
   "id": "81c9ee8b",
   "metadata": {},
   "outputs": [
    {
     "name": "stdout",
     "output_type": "stream",
     "text": [
      "200\n",
      "<!DOCTYPE html><html lang=\"en\"><head><meta charSet=\"utf-8\" data-next-head=\"\"/><meta name=\"viewport\" content=\"width=device-width\" data-next-head=\"\"/><title data-next-head=\"\">7444 N. Seeley - Chicago, IL 60645 | ApartmentGuide.com</title><link rel=\"icon\" href=\"/favicon.ico\" data-next-head=\"\"/><meta name=\"format-detection\" content=\"telephone=no\" data-next-head=\"\"/><meta name=\"description\" content=\"Find your new home at 7444 N. Seeley located at 7444 N Seeley Ave, Chicago, IL 60645. Floor plans star\n"
     ]
    }
   ],
   "source": [
    "# Задаём URL страницы для парсинга\n",
    "url_2 = 'https://www.apartmentguide.com/a/7444-N-Seeley-Chicago-IL-6003150/'\n",
    "\n",
    "# Указываем заголовки запроса, чтобы сайт думал, что это запрос от браузера\n",
    "headers = {\n",
    "    \"User-Agent\": \"Mozilla/5.0 (Windows NT 10.0; Win64; x64) AppleWebKit/537.36 (KHTML, like Gecko) Chrome/139.0.7258.128 Safari/537.36\",\n",
    "    \"Accept\": \"text/html,application/xhtml+xml,application/xml;q=0.9,image/webp,*/*;q=0.8\"\n",
    "}\n",
    "\n",
    "# Отправляем GET-запрос к сайту\n",
    "r_2 = requests.get(url_2, headers=headers)\n",
    "\n",
    "# Проверяем статус ответа (200 = успешно)\n",
    "print(r_2.status_code)\n",
    "\n",
    "# Выводим первые 500 символов страницы\n",
    "print(r_2.text[:500])"
   ]
  },
  {
   "cell_type": "code",
   "execution_count": 8,
   "id": "bee5b64a",
   "metadata": {},
   "outputs": [],
   "source": [
    "# Создаём объект BeautifulSoup для удобного парсинга HTML\n",
    "soup_2 = BeautifulSoup(r_2.text, 'lxml')"
   ]
  },
  {
   "cell_type": "code",
   "execution_count": 9,
   "id": "87863cfc",
   "metadata": {},
   "outputs": [
    {
     "data": {
      "text/plain": [
       "'$1,455+'"
      ]
     },
     "execution_count": 9,
     "metadata": {},
     "output_type": "execute_result"
    }
   ],
   "source": [
    "# Находим блок с ценой\n",
    "price = soup_2.find('div', class_= '_51bb0611').find('div', {'data-tid': 'pdpKeyInfo_price'}).text.strip()\n",
    "price"
   ]
  },
  {
   "cell_type": "code",
   "execution_count": 10,
   "id": "18e15ac9",
   "metadata": {},
   "outputs": [
    {
     "data": {
      "text/plain": [
       "'1–3 Beds'"
      ]
     },
     "execution_count": 10,
     "metadata": {},
     "output_type": "execute_result"
    }
   ],
   "source": [
    "# Находим блок с количеством комнат\n",
    "bads = soup_2.find('li', {'data-tid': 'pdpKeyInfo_bedText'}).text.strip()\n",
    "bads"
   ]
  },
  {
   "cell_type": "code",
   "execution_count": 11,
   "id": "535e31c2",
   "metadata": {},
   "outputs": [
    {
     "data": {
      "text/plain": [
       "'1 Bath'"
      ]
     },
     "execution_count": 11,
     "metadata": {},
     "output_type": "execute_result"
    }
   ],
   "source": [
    "# Находим блок с количеством ванных комнат\n",
    "baths = soup_2.find('li', {'data-tid': 'pdpKeyInfo_bathText'}).text.strip()\n",
    "baths"
   ]
  },
  {
   "cell_type": "code",
   "execution_count": 12,
   "id": "7f498108",
   "metadata": {},
   "outputs": [],
   "source": [
    "# Находим блок с размером апартаментов в sqft\n",
    "try:\n",
    "    sqft = soup_2.find('li', {'data-tid': 'pdpKeyInfo_sqFt'}).text.strip()\n",
    "except AttributeError:\n",
    "    sqft = 0"
   ]
  },
  {
   "cell_type": "code",
   "execution_count": 13,
   "id": "c4b3c5bc",
   "metadata": {},
   "outputs": [
    {
     "data": {
      "text/plain": [
       "0"
      ]
     },
     "execution_count": 13,
     "metadata": {},
     "output_type": "execute_result"
    }
   ],
   "source": [
    "sqft"
   ]
  },
  {
   "cell_type": "code",
   "execution_count": 14,
   "id": "0b0a582d",
   "metadata": {},
   "outputs": [],
   "source": [
    "# Находим блок \"Pet policy\"\n",
    "pets = [s.get_text(strip=True)\n",
    "        for s in soup_2.find('div', attrs={'data-tag_section': 'pet_policy_summary'}) \\\n",
    "                     .find_all('span')]"
   ]
  },
  {
   "cell_type": "code",
   "execution_count": 15,
   "id": "5c904af3",
   "metadata": {},
   "outputs": [
    {
     "data": {
      "text/plain": [
       "['Cats OK']"
      ]
     },
     "execution_count": 15,
     "metadata": {},
     "output_type": "execute_result"
    }
   ],
   "source": [
    "pets"
   ]
  },
  {
   "cell_type": "code",
   "execution_count": 16,
   "id": "51e6a37a",
   "metadata": {},
   "outputs": [
    {
     "name": "stdout",
     "output_type": "stream",
     "text": [
      "Kitchen : Dishwasher\n",
      "Features : 0\n",
      "Unique : Dryer, Heating: Gas, On-Site Management, Pet Friendly, Washer\n",
      "Parking : 0\n"
     ]
    },
    {
     "name": "stderr",
     "output_type": "stream",
     "text": [
      "/var/folders/pj/zsgv91ds4gzcy93zwc1mwl280000gn/T/ipykernel_54203/178365932.py:7: DeprecationWarning: The 'text' argument to find()-type methods is deprecated. Use 'string' instead.\n",
      "  block = soup_2.find('h3', text=section).find_next('ul')\n"
     ]
    }
   ],
   "source": [
    "# Находим блоки с описанием всех удобств в апартаментах \n",
    "sections = ['Kitchen', 'Features', 'Unique', 'Parking']\n",
    "amenities_data = {}\n",
    "\n",
    "for section in sections:\n",
    "    try:\n",
    "        block = soup_2.find('h3', text=section).find_next('ul')\n",
    "        items = [li.text.strip() for li in block.find_all('li')]\n",
    "        amenities_data[section] = ', '.join(items) if items else 0\n",
    "    except AttributeError:\n",
    "        amenities_data[section] = 0\n",
    "\n",
    "for k, v in amenities_data.items():\n",
    "    print(k, ':', v)"
   ]
  },
  {
   "cell_type": "code",
   "execution_count": 17,
   "id": "8cbc70ca",
   "metadata": {},
   "outputs": [
    {
     "name": "stdout",
     "output_type": "stream",
     "text": [
      "Term Length = 12-Month\n"
     ]
    }
   ],
   "source": [
    "# Находим блок со сроком аренды\n",
    "try:\n",
    "    term_length = soup_2.find('h3', string='Term Length').find_next('div').text.strip()\n",
    "except:\n",
    "    term_length = 0\n",
    "\n",
    "print('Term Length =', term_length)"
   ]
  },
  {
   "cell_type": "code",
   "execution_count": 18,
   "id": "3115bb0b",
   "metadata": {},
   "outputs": [
    {
     "name": "stdout",
     "output_type": "stream",
     "text": [
      "Latitude: 42.017309, Longitude: -87.6818\n"
     ]
    }
   ],
   "source": [
    "# Находим JSON-LD блок со структурированными данными на странице\n",
    "script = soup_2.find(\"script\", {\"id\": \"json-ld\", \"type\": \"application/ld+json\"})\n",
    "\n",
    "# Загружаем содержимое скрипта как JSON\n",
    "data = json.loads(script.string)\n",
    "\n",
    "# Извлекаем координаты апартаментов: широту и долготу\n",
    "latitude = data[\"mainEntity\"][\"geo\"][\"latitude\"]\n",
    "longitude = data[\"mainEntity\"][\"geo\"][\"longitude\"]\n",
    "\n",
    "print(f\"Latitude: {latitude}, Longitude: {longitude}\")"
   ]
  },
  {
   "cell_type": "code",
   "execution_count": 19,
   "id": "49514302",
   "metadata": {},
   "outputs": [
    {
     "name": "stdout",
     "output_type": "stream",
     "text": [
      "60645\n"
     ]
    }
   ],
   "source": [
    "# Находим тег <script> с JSON-LD, в котором лежат структурированные данные об объекте\n",
    "script_tag = soup_2.find('script', {'id': 'json-ld', 'type': 'application/ld+json'})\n",
    "\n",
    "# Преобразуем содержимое тега в Python-словарь\n",
    "data = json.loads(script_tag.string)\n",
    "\n",
    "# Извлекаем почтовый индекс апартаментов из раздела address\n",
    "postal_code = data['mainEntity']['address']['postalCode']\n",
    "print(postal_code)"
   ]
  },
  {
   "cell_type": "markdown",
   "id": "f13464a1",
   "metadata": {},
   "source": [
    "## Скрейпер для всех страниц и карточек ApartmentGuide"
   ]
  },
  {
   "cell_type": "code",
   "execution_count": null,
   "id": "03ee7e4e",
   "metadata": {},
   "outputs": [],
   "source": [
    "# Настройки undetected-chromedriver\n",
    "# Создаём опции для браузера: размер окна и отключение признаков автоматизации\n",
    "options = uc.ChromeOptions()\n",
    "options.add_argument(\"--window-size=1920,1080\")\n",
    "options.add_argument(\"--disable-blink-features=AutomationControlled\")\n",
    "\n",
    "# Запускаем браузер\n",
    "driver = uc.Chrome(options=options)\n",
    "\n",
    "# Базовый URL и переменные для хранения данных\n",
    "base_url = \"https://www.apartmentguide.com/apartments/Illinois/Chicago/page-{}/\"\n",
    "data = []\n",
    "page = 1\n",
    "\n",
    "# Основной цикл по страницам\n",
    "while True:\n",
    "    # Формируем URL для текущей страницы\n",
    "    url = base_url.format(page) if page > 1 else \"https://www.apartmentguide.com/apartments/Illinois/Chicago/\"\n",
    "    print(f\"Парсим страницу {page}: {url}\")\n",
    "    driver.get(url)\n",
    "\n",
    "    # Скроллим страницу для подгрузки карточек\n",
    "    last_height = driver.execute_script(\"return document.body.scrollHeight\")\n",
    "    for y in range(0, last_height, random.randint(200, 400)):\n",
    "        driver.execute_script(f\"window.scrollTo(0, {y});\")\n",
    "        time.sleep(random.uniform(0.2, 0.5))\n",
    "\n",
    "    # Ждём, пока карточки появятся на странице\n",
    "    try:\n",
    "        WebDriverWait(driver, 10).until(\n",
    "            EC.presence_of_all_elements_located((By.CSS_SELECTOR, \"li[data-tid^='srp_card_']\"))\n",
    "        )\n",
    "    except:\n",
    "        print(\"Карточки не найдены, выходим.\")\n",
    "        break\n",
    "\n",
    "    # Создаём объект BeautifulSoup для парсинга HTML\n",
    "    soup = BeautifulSoup(driver.page_source, \"lxml\")\n",
    "    cards = soup.select(\"li[data-tid^='srp_card_']\")\n",
    "    if not cards:\n",
    "        print(\"Карточки закончились, выходим.\")\n",
    "        break\n",
    "\n",
    "    print(f\"Найдено карточек: {len(cards)}\")\n",
    "\n",
    "    # Сбор ссылок на каждую карточку квартиры\n",
    "    card_links = []\n",
    "    for card in cards:\n",
    "        a = card.find(\"a\")\n",
    "        if a and a.get(\"href\"):\n",
    "            link = a[\"href\"]\n",
    "            if not link.startswith(\"http\"):\n",
    "                link = \"https://www.apartmentguide.com\" + link\n",
    "            card_links.append(link)\n",
    "\n",
    "    # Парсим каждую карточку отдельно\n",
    "    for link in card_links:\n",
    "        driver.get(link)\n",
    "        time.sleep(random.uniform(1, 2))\n",
    "        soup2 = BeautifulSoup(driver.page_source, \"lxml\")\n",
    "\n",
    "        # Основные данные: цена, спальни, ванные, площадь\n",
    "        try: price = soup2.select_one(\"div[data-tid='pdpKeyInfo_price']\").get_text(strip=True)\n",
    "        except: price = None\n",
    "        try: beds = soup2.select_one(\"li[data-tid='pdpKeyInfo_bedText']\").get_text(strip=True)\n",
    "        except: beds = None\n",
    "        try: baths = soup2.select_one(\"li[data-tid='pdpKeyInfo_bathText']\").get_text(strip=True)\n",
    "        except: baths = None\n",
    "        try: sqft = soup2.select_one(\"li[data-tid='pdpKeyInfo_sqFt']\").get_text(strip=True)\n",
    "        except: sqft = None\n",
    "\n",
    "        # Политика по животным\n",
    "        try:\n",
    "            pets = \", \".join([e.get_text(strip=True) for e in soup2.select(\"div[data-tag_section='pet_policy_summary'] span\")])\n",
    "        except: pets = None\n",
    "\n",
    "        # Удобства квартиры\n",
    "        amenities_data = {}\n",
    "        for section in ['Kitchen', 'Features', 'Unique', 'Parking']:\n",
    "            try:\n",
    "                ul = soup2.find(\"h3\", string=section).find_next(\"ul\")\n",
    "                items = [li.get_text(strip=True) for li in ul.find_all(\"li\")]\n",
    "                amenities_data[section] = \", \".join(items) if items else None\n",
    "            except:\n",
    "                amenities_data[section] = None\n",
    "\n",
    "        # Срок аренды\n",
    "        try:\n",
    "            term_length = soup2.find(\"h3\", string=\"Term Length\").find_next(\"div\").get_text(strip=True)\n",
    "        except:\n",
    "            term_length = None\n",
    "\n",
    "        # Координаты и почтовый индекс из JSON-LD\n",
    "        try:\n",
    "            script = soup2.find(\"script\", id=\"json-ld\", type=\"application/ld+json\").string\n",
    "            latitude = script.split('\"latitude\":')[1].split(\",\")[0].strip().strip('\"')\n",
    "            longitude = script.split('\"longitude\":')[1].split(\",\")[0].strip().strip('\"')\n",
    "            postal_code = script.split('\"postalCode\":')[1].split(\",\")[0].strip().strip('\"')\n",
    "        except:\n",
    "            latitude = longitude = postal_code = None\n",
    "\n",
    "        # Добавляем данные в общий список\n",
    "        data.append([\n",
    "            price, beds, baths, sqft, pets,\n",
    "            amenities_data['Kitchen'], amenities_data['Features'],\n",
    "            amenities_data['Unique'], amenities_data['Parking'],\n",
    "            term_length, latitude, longitude, postal_code, link\n",
    "        ])\n",
    "        print(f\"✓ {link}\")\n",
    "        print(f\"   Price: {price} | Beds: {beds} | Baths: {baths} | Sqft: {sqft} | Pets: {pets}\")\n",
    "        print(f\"   Term: {term_length} | Lat: {latitude} | Lon: {longitude} | ZIP: {postal_code}\")\n",
    "\n",
    "    # Делаем паузу перед следующей страницей\n",
    "    time.sleep(random.uniform(3, 5))\n",
    "    page += 1\n",
    "\n",
    "# Закрываем браузер после завершения сбора данных\n",
    "driver.quit()"
   ]
  },
  {
   "cell_type": "code",
   "execution_count": null,
   "id": "27e2fd55",
   "metadata": {},
   "outputs": [],
   "source": [
    "# Преобразуем собранные данные в DataFrame pandas с понятными названиями колонок\n",
    "data = pd.DataFrame(data, columns=[\n",
    "    'price','beds','baths','sqft','pets',\n",
    "    'Kitchen','Features','Unique','Parking',\n",
    "    'term_length','latitude','longitude','postal_code','link'\n",
    "])\n",
    "\n",
    "# Сохраняем DataFrame в CSV-файл для дальнейшей обработки и анализа\n",
    "data.to_csv('chicago_rent.csv', index=False, encoding=\"utf-8-sig\")\n",
    "\n",
    "print(\"Сбор завершён. Всего квартир:\", len(data))"
   ]
  }
 ],
 "metadata": {
  "kernelspec": {
   "display_name": "Python 3 (ipykernel)",
   "language": "python",
   "name": "python3"
  },
  "language_info": {
   "codemirror_mode": {
    "name": "ipython",
    "version": 3
   },
   "file_extension": ".py",
   "mimetype": "text/x-python",
   "name": "python",
   "nbconvert_exporter": "python",
   "pygments_lexer": "ipython3",
   "version": "3.10.18"
  },
  "toc": {
   "base_numbering": 1,
   "nav_menu": {},
   "number_sections": true,
   "sideBar": true,
   "skip_h1_title": false,
   "title_cell": "Table of Contents",
   "title_sidebar": "Contents",
   "toc_cell": false,
   "toc_position": {
    "height": "calc(100% - 180px)",
    "left": "10px",
    "top": "150px",
    "width": "250.81px"
   },
   "toc_section_display": true,
   "toc_window_display": false
  }
 },
 "nbformat": 4,
 "nbformat_minor": 5
}
